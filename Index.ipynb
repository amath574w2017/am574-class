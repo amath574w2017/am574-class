{
 "cells": [
  {
   "cell_type": "markdown",
   "metadata": {},
   "source": [
    "# AMath 574 Notebooks\n",
    "### Winter Quarter, 2017\n",
    "\n",
    "See also:\n",
    "\n",
    " - http://faculty.washington.edu/rjl/classes/am574w2017/notebooks.html\n",
    " - https://github.com/amath574w2017/am574-class/tree/master/notebooks\n",
    " \n",
    "Available notebooks:\n",
    "\n",
    " - [notebooks/Riemann_problem_linear_system.ipynb](notebooks/Riemann_problem_linear_system.ipynb)\n",
    " - [notebooks/Advection_Examples1.ipynb](notebooks/Advection_Examples1.ipynb)\n",
    " - [notebooks/Advection_Examples2.ipynb](notebooks/Advection_Examples2.ipynb)\n",
    " "
   ]
  }
 ],
 "metadata": {
  "kernelspec": {
   "display_name": "Python 2",
   "language": "python",
   "name": "python2"
  },
  "language_info": {
   "codemirror_mode": {
    "name": "ipython",
    "version": 2
   },
   "file_extension": ".py",
   "mimetype": "text/x-python",
   "name": "python",
   "nbconvert_exporter": "python",
   "pygments_lexer": "ipython2",
   "version": "2.7.12"
  }
 },
 "nbformat": 4,
 "nbformat_minor": 1
}
