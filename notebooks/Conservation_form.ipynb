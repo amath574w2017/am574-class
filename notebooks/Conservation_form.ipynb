{
 "cells": [
  {
   "cell_type": "markdown",
   "metadata": {},
   "source": [
    "# The importance of conservation form\n",
    "\n",
    "For a nonlinear problem like Burgers' equation, it is important to use a finite volume method that is in conservation form, or it is possible to converge to a function containing a shock wave that is not a solution of intended conservation law.\n",
    "\n",
    "This illustrates Figure 12.5 in [FVMHP](http://depts.washington.edu/clawpack/book.html)."
   ]
  },
  {
   "cell_type": "code",
   "execution_count": null,
   "metadata": {
    "collapsed": false
   },
   "outputs": [],
   "source": [
    "%pylab inline"
   ]
  },
  {
   "cell_type": "code",
   "execution_count": null,
   "metadata": {
    "collapsed": false
   },
   "outputs": [],
   "source": [
    "from __future__ import print_function"
   ]
  },
  {
   "cell_type": "code",
   "execution_count": null,
   "metadata": {
    "collapsed": false
   },
   "outputs": [],
   "source": [
    "import animation_tools  # local version, rather than from Clawpack"
   ]
  },
  {
   "cell_type": "code",
   "execution_count": null,
   "metadata": {
    "collapsed": false
   },
   "outputs": [],
   "source": [
    "#animation_style = 'ipywidgets'\n",
    "animation_style = 'JSAnimation'"
   ]
  },
  {
   "cell_type": "markdown",
   "metadata": {},
   "source": [
    "## Desired true solution\n",
    "\n",
    "Define the true solution as a function of $(x,t)$. For this example we have a Riemann problem with a shock wave solution.\n",
    "\n",
    "Evaluating this function at $t=0$ will give the initial conditions below."
   ]
  },
  {
   "cell_type": "code",
   "execution_count": null,
   "metadata": {
    "collapsed": false
   },
   "outputs": [],
   "source": [
    "f = lambda q: 0.5*q**2\n",
    "\n",
    "q_left = 3.\n",
    "q_right = 1.\n",
    "s = 0.5*(q_left + q_right)\n",
    "\n",
    "xlower = -1.\n",
    "xupper = 3.\n",
    "\n",
    "def qtrue(x,t):\n",
    "    # Riemann problem, assuming shock wave solution:\n",
    "    x0 = x - s*t   # trace back characteristic to time 0\n",
    "    q = where(x0<0, q_left, q_right) \n",
    "    return q"
   ]
  },
  {
   "cell_type": "markdown",
   "metadata": {},
   "source": [
    "### Define upwind method with both conservative and non-conservative variants\n",
    "\n",
    "Consider Burgers' Equation $q_t + \\left(\\frac 1 2 q^2\\right)_x = 0$.\n",
    "\n",
    "We assume $Q_i^n > 0$ everywhere so the upwind direction is to the left.\n",
    "\n",
    "If `conservative = True` in the call to `upwind`, the conservative upwind method is used, differencing the flux function $f(q) = \\frac 1 2 q^2$:\n",
    "$$\n",
    "Q_i^{n+1} = Q_i^n - \\frac{\\Delta t}{\\Delta x} \\left( \\frac 1 2 (Q_i^n)^2 - \\frac 1 2 (Q_{i-1}^n)^2 \\right)\n",
    "$$\n",
    "\n",
    "If `conservative = False` in the call to `upwind`, the non-conservative upwind method is used, based on the quasi-linear form of Burgers' equation $q_t + qq_x = 0$:\n",
    "\n",
    "$$\n",
    "Q_i^{n+1} = Q_i^n - \\frac{\\Delta t}{\\Delta x} Q_i^n \\left( Q_i^n - Q_{i-1}^n \\right)\n",
    "$$\n",
    "\n",
    "This function also make a plot every `nplot` time steps and accumulate these in `figs`, which is returned from the function call.\n"
   ]
  },
  {
   "cell_type": "code",
   "execution_count": null,
   "metadata": {
    "collapsed": false
   },
   "outputs": [],
   "source": [
    "def upwind(x,tfinal,nsteps,dt,qtrue,nplot,conservative):\n",
    "    \n",
    "    dx = x[1] - x[0]  # assumes uniform grid\n",
    "    \n",
    "    # set initial data:\n",
    "    q0 = qtrue(x,0.)\n",
    "\n",
    "    # plot initial data:\n",
    "    fig = figure()\n",
    "    xfine = linspace(xlower,xupper,5000)   # fine grid for plotting true solution\n",
    "    plot(xfine, qtrue(xfine,0.),'r-')\n",
    "    title('Initial data')\n",
    "    plot(x,q0,'bo')\n",
    "    ylim(0,4)\n",
    "\n",
    "    # Start accumulating figures\n",
    "    # Will add more figures during time stepping\n",
    "    figs = [fig]  \n",
    "    close(fig)  # so it won't appear yet\n",
    "\n",
    "\n",
    "    # extend to include 2 ghost cells on each side:\n",
    "    qn_ext = hstack([0., 0., q0, 0., 0.])\n",
    "    i1 = 2  # index of first interior cell\n",
    "    imx = mx+1  # index of last interior cell\n",
    "\n",
    "    for n in range(1, nsteps+1):\n",
    "\n",
    "        # fill ghost cells for inflow BCs:\n",
    "        qn_ext[i1-2] = q_left\n",
    "        qn_ext[i1-1] = q_left\n",
    "        #qn_ext[imx+1] = Not needed\n",
    "        #qn_ext[imx+2] = \n",
    "\n",
    "        qnp_ext = qn_ext.copy()  # make a copy, not a new pointer to old array\n",
    "\n",
    "        \n",
    "        if conservative:\n",
    "            for i in range(i1,imx+1):\n",
    "                qnp_ext[i] = qn_ext[i] - dt/dx * (f(qn_ext[i])-f(qn_ext[i-1]))\n",
    "                \n",
    "        else:\n",
    "            for i in range(i1,imx+1):\n",
    "                qnp_ext[i] = qn_ext[i] - dt/dx * qn_ext[i]*(qn_ext[i]-qn_ext[i-1])\n",
    "\n",
    "                \n",
    "        qn_ext = qnp_ext\n",
    "\n",
    "        if mod(n,nplot) == 0:\n",
    "            fig = figure()\n",
    "            qn = qn_ext[i1:imx+1]\n",
    "            plot(x,qn,'bo-')\n",
    "            ylim(0,4)\n",
    "            tn = n*dt\n",
    "            plot(xfine, qtrue(xfine,tn),'r-')\n",
    "            title('Time t = %g' % tfinal)\n",
    "            figs.append(fig)\n",
    "            close(fig)\n",
    "\n",
    "    print(\"Took %i time steps and produced %i figures\" % (nsteps,len(figs)))\n",
    "    return figs"
   ]
  },
  {
   "cell_type": "code",
   "execution_count": null,
   "metadata": {
    "collapsed": false
   },
   "outputs": [],
   "source": [
    "mx = 100\n",
    "dx = float(xupper-xlower)/mx\n",
    "\n",
    "# finite volume cell centers:\n",
    "x = linspace(xlower+0.5*dx, xupper-0.5*dx, mx)\n",
    "\n",
    "tfinal = 1.0\n",
    "nsteps = 100\n",
    "dt = float(tfinal)/nsteps\n",
    "cfl = max(q_left, q_right)*dt/dx\n",
    "print(\"dx = %6.4f, dt = %6.4f, Courant number is cfl = %5.2f\" % (dx,dt,cfl))"
   ]
  },
  {
   "cell_type": "markdown",
   "metadata": {},
   "source": [
    "## Test the conservative upwind method:"
   ]
  },
  {
   "cell_type": "code",
   "execution_count": null,
   "metadata": {
    "collapsed": false
   },
   "outputs": [],
   "source": [
    "figs = upwind(x,tfinal,nsteps,dt,qtrue,nplot=5,conservative=True)\n",
    "\n",
    "anim = animation_tools.animate_figs(figs, style=animation_style, figsize=(6,3))\n",
    "display(anim)"
   ]
  },
  {
   "cell_type": "code",
   "execution_count": null,
   "metadata": {
    "collapsed": false
   },
   "outputs": [],
   "source": [
    "figs = upwind(x,tfinal,nsteps,dt,qtrue,nplot=5,conservative=False)\n",
    "\n",
    "anim = animation_tools.animate_figs(figs, style=animation_style, figsize=(6,3))\n",
    "display(anim)"
   ]
  }
 ],
 "metadata": {
  "kernelspec": {
   "display_name": "Python 2",
   "language": "python",
   "name": "python2"
  },
  "language_info": {
   "codemirror_mode": {
    "name": "ipython",
    "version": 2
   },
   "file_extension": ".py",
   "mimetype": "text/x-python",
   "name": "python",
   "nbconvert_exporter": "python",
   "pygments_lexer": "ipython2",
   "version": "2.7.12"
  }
 },
 "nbformat": 4,
 "nbformat_minor": 1
}
