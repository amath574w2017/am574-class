{
 "cells": [
  {
   "cell_type": "markdown",
   "metadata": {},
   "source": [
    "# Osher solution to a scalar Riemann problem\n",
    "\n",
    "Implementation of the general solution to the scalar Riemann problem that is valid also for non-convex fluxes.\n",
    "\n",
    "$$\n",
    "Q(\\xi) = \\begin{cases} \n",
    "    \\text{argmin}_{q_l \\leq q \\leq q_r} [f(q) - \\xi q]& \\text{if} ~q_l\\leq q_r,\\\\\n",
    "    \\text{argmax}_{q_r \\leq q \\leq q_l} [f(q) - \\xi q]& \\text{if} ~q_r\\leq q_l.\\\\\n",
    "\\end{cases}\n",
    "$$\n",
    "\n",
    "From: S.J. Osher, *Riemann Solvers, the Entropy Condition, and Difference Approximations*, SIAM J. Numer. Anal. 21(1984), pp. 217-235.  [doi:10.1137/0721016](http://dx.doi.org/10.1137/0721016)\n",
    "\n",
    "See also Section 16.1.2. of [FVMHP](http://depts.washington.edu/clawpack/book.html).\n",
    "\n"
   ]
  },
  {
   "cell_type": "code",
   "execution_count": null,
   "metadata": {
    "collapsed": false
   },
   "outputs": [],
   "source": [
    "%pylab inline"
   ]
  },
  {
   "cell_type": "code",
   "execution_count": null,
   "metadata": {
    "collapsed": false
   },
   "outputs": [],
   "source": [
    "from __future__ import print_function"
   ]
  },
  {
   "cell_type": "markdown",
   "metadata": {},
   "source": [
    "### Select an animation style:"
   ]
  },
  {
   "cell_type": "code",
   "execution_count": null,
   "metadata": {
    "collapsed": false
   },
   "outputs": [],
   "source": [
    "import animation_tools  # local version, rather than from Clawpack\n",
    "\n",
    "#animation_style = 'ipywidgets'\n",
    "animation_style = 'JSAnimation'"
   ]
  },
  {
   "cell_type": "code",
   "execution_count": null,
   "metadata": {
    "collapsed": false
   },
   "outputs": [],
   "source": [
    "def osher_solution(f, q_left, q_right, xi_left=None, xi_right=None):\n",
    "    \"\"\"\n",
    "    Compute the Riemann solution to a scalar conservation law.\n",
    "    \n",
    "    Compute the similarity solution Q(x/t) and also the \n",
    "    (possibly multi-valued) solution determined by tracing \n",
    "    characteristics.\n",
    "    \n",
    "    Input:\n",
    "      f = flux function (possibly nonconvex)\n",
    "      q_left, q_right = Riemann data\n",
    "      xi_left, xi_right = optional left and right limits for xi = x/t\n",
    "               in similarity solution.\n",
    "               If not specified, chosen based on the characteristic speeds.\n",
    "    \n",
    "    Returns:\n",
    "      xi = array of values between xi_left and xi_right\n",
    "      q  = array of corresponding q(xi) values (xi = x/t)\n",
    "      q_char = array of values of q between q_left and q_right\n",
    "      xi_char = xi value for each q_char for use in plotting the\n",
    "              (possibly multi-valued) solution where each q value\n",
    "              propagates at speed f'(q).\n",
    "    \"\"\"\n",
    "    \n",
    "    q_min = min(q_left, q_right)\n",
    "    q_max = max(q_left, q_right)\n",
    "    qv = linspace(q_min, q_max, 1000)\n",
    "    \n",
    "    # define the function qtilde as in (16.7)\n",
    "    if q_left <= q_right:\n",
    "        def qtilde(xi):\n",
    "            Q = empty(xi.shape, dtype=float)\n",
    "            for j,xij in enumerate(xi):\n",
    "                i = argmin(f(qv) - xij*qv)\n",
    "                Q[j] = qv[i]\n",
    "            return Q\n",
    "    else:\n",
    "        def qtilde(xi):\n",
    "            Q = empty(xi.shape, dtype=float)\n",
    "            for j,xij in enumerate(xi):\n",
    "                i = argmax(f(qv) - xij*qv)\n",
    "                Q[j] = qv[i]\n",
    "            return Q\n",
    "        \n",
    "    # The rest is just for plotting purposes:\n",
    "    fv = f(qv)\n",
    "    dfdq = diff(fv) / (qv[1] - qv[0])\n",
    "    dfdq_min = min(dfdq)\n",
    "    dfdq_max = max(dfdq)\n",
    "    #print(\"Mininum characteristic velocity: %g\" % dfdq_min)\n",
    "    #print(\"Maximum characteristic velocity: %g\" % dfdq_max)\n",
    "    dfdq_range = dfdq_max - dfdq_min\n",
    "\n",
    "    \n",
    "    if xi_left is None: \n",
    "        xi_left = min(0,dfdq_min) - 0.1*dfdq_range\n",
    "    if xi_right is None: \n",
    "        xi_right = max(0,dfdq_max) + 0.1*dfdq_range\n",
    "        \n",
    "    q_char = hstack((q_min, 0.5*(qv[:-1] + qv[1:]), q_max))\n",
    "    \n",
    "    if q_left <= q_right:\n",
    "        xi_min = xi_left\n",
    "        xi_max = xi_right\n",
    "    else:\n",
    "        xi_min = xi_right\n",
    "        xi_max = xi_left\n",
    "   \n",
    "    xi_char = hstack((xi_min, dfdq, xi_max))\n",
    "    \n",
    "    xi = linspace(xi_left, xi_right, 1000)\n",
    "    q = qtilde(xi)\n",
    "    \n",
    "    return xi, q, q_char, xi_char\n",
    "\n",
    "    "
   ]
  },
  {
   "cell_type": "markdown",
   "metadata": {},
   "source": [
    "## Traffic flow\n",
    "\n",
    "First try a convex flux, such as $f(q) = q(1-q)$ from traffic flow (with $u_{max}=1$ in the notation of Chapter 11):"
   ]
  },
  {
   "cell_type": "code",
   "execution_count": null,
   "metadata": {
    "collapsed": false
   },
   "outputs": [],
   "source": [
    "f = lambda q: q*(1-q)\n",
    "\n",
    "figure(figsize=(12,5))\n",
    "subplot(121)\n",
    "\n",
    "q_left = 0.6\n",
    "q_right = 0.1\n",
    "\n",
    "xi, qxi, q_char, xi_char = osher_solution(f, q_left, q_right, -2, 2)\n",
    "plot(xi_char, q_char,'r')\n",
    "plot(xi, qxi, 'b', linewidth=2)\n",
    "ylim(-0.1,1.1)\n",
    "title('Rarefaction solution')\n",
    "\n",
    "subplot(122)\n",
    "\n",
    "q_left = 0.1\n",
    "q_right = 0.6\n",
    "\n",
    "xi, qxi, q_char, xi_char = osher_solution(f, q_left, q_right, -2, 2)\n",
    "plot(xi_char, q_char,'r')\n",
    "plot(xi, qxi, 'b', linewidth=2)\n",
    "ylim(-0.1,1.1)\n",
    "title('Shock solution')"
   ]
  },
  {
   "cell_type": "markdown",
   "metadata": {},
   "source": [
    "## Buckley-Leverett Equation\n",
    "\n",
    "The Buckley-Leverett equation for two-phase flow is described in Section 16.1.1.  It has the non-convext flux function\n",
    "\n",
    "$$ \n",
    "f(q) = \\frac{q^2}{q^2 + a(1-q)^2}\n",
    "$$\n",
    "where $a$ is some constant."
   ]
  },
  {
   "cell_type": "code",
   "execution_count": null,
   "metadata": {
    "collapsed": false
   },
   "outputs": [],
   "source": [
    "a = 0.5\n",
    "f_buckley_leverett = lambda q: q**2 / (q**2 + a*(1-q)**2)"
   ]
  },
  {
   "cell_type": "code",
   "execution_count": null,
   "metadata": {
    "collapsed": false
   },
   "outputs": [],
   "source": [
    "q_left = 1.\n",
    "q_right = 0."
   ]
  },
  {
   "cell_type": "markdown",
   "metadata": {},
   "source": [
    "### Plot the flux and its derivative"
   ]
  },
  {
   "cell_type": "code",
   "execution_count": null,
   "metadata": {
    "collapsed": false
   },
   "outputs": [],
   "source": [
    "qvals = linspace(q_right, q_left, 200)\n",
    "fvals = f_buckley_leverett(qvals)\n",
    "dfdq = diff(fvals) / (qvals[1]-qvals[0])  # approximate df/dq\n",
    "qmid = 0.5*(qvals[:-1] + qvals[1:])   # midpoints for plotting dfdq\n",
    "\n",
    "figure(figsize=(10,4))\n",
    "subplot(131)\n",
    "plot(qvals,fvals)\n",
    "xlabel('q')\n",
    "ylabel('f(q)')\n",
    "title('flux function f(q)')\n",
    "\n",
    "subplot(132)\n",
    "plot(qmid, dfdq)\n",
    "xlabel('q')\n",
    "ylabel('df/dq')\n",
    "title('characteristic speed df/dq')\n",
    "\n",
    "subplot(133)\n",
    "plot(dfdq, qmid, 'r')\n",
    "xlabel('df/dq')\n",
    "ylabel('q')\n",
    "title('q vs. df/dq')\n",
    "\n",
    "subplots_adjust(left=0.)"
   ]
  },
  {
   "cell_type": "markdown",
   "metadata": {},
   "source": [
    "Note that the third plot above shows $q$ on the vertical axis and $df/dq$ on the horizontal axis (it's the middle figure turned sideways).  You can think of this as showing the characteristic velocity for each point on a jump discontinuity from $q=0$ to $q=1$, and hence a triple valued solution of the Riemann problem at $t=1$ when each $q$ value has propagated this far.  \n",
    "\n",
    "Below we show this together with the correct solution to the Riemann problem, with a shock wave inserted (as computed using the Osher solution defined above).  Note that for this non-convex flux function the Riemann solution consists partly of a rarefaction wave together with a shock wave."
   ]
  },
  {
   "cell_type": "code",
   "execution_count": null,
   "metadata": {
    "collapsed": false
   },
   "outputs": [],
   "source": [
    "xi, qxi, q_char, xi_char = osher_solution(f_buckley_leverett, q_left, q_right, -2, 2)\n",
    "\n",
    "plot(xi_char, q_char,'r')\n",
    "plot(xi, qxi, 'b', linewidth=2)\n",
    "ylim(-0.1,1.1)"
   ]
  },
  {
   "cell_type": "markdown",
   "metadata": {},
   "source": [
    "### Create an animation:"
   ]
  },
  {
   "cell_type": "code",
   "execution_count": null,
   "metadata": {
    "collapsed": false
   },
   "outputs": [],
   "source": [
    "figs = []\n",
    "\n",
    "# adjust first and last elements in xi arrays\n",
    "# so things plot nicely for t \\approx 0:\n",
    "\n",
    "xi[0] *= 1e6; xi[-1] *= 1e6\n",
    "xi_char[0] *= 1e6; xi_char[-1] *= 1e6\n",
    "\n",
    "times = linspace(0,1,11)\n",
    "times[0] = 1e-3  # adjust first time to be >0\n",
    "\n",
    "for t in times:\n",
    "    fig = figure(figsize=(6,3))\n",
    "    plot(xi_char*t,q_char,'r')\n",
    "    plot(xi*t, qxi, 'b', linewidth=2)\n",
    "    xlim(-2, 2.5)\n",
    "    ylim(-0.1,1.1)\n",
    "    figs.append(fig)\n",
    "    close(fig)\n",
    "    \n",
    "anim = animation_tools.animate_figs(figs, style=animation_style, figsize=(6,3))\n",
    "display(anim)"
   ]
  },
  {
   "cell_type": "markdown",
   "metadata": {},
   "source": [
    "## Sinusoidal flux\n",
    "\n",
    "As another test, the flux function $f(q) = \\sin(q)$ is used in Example 16.1 to produce the figure 16.4, reproduced below."
   ]
  },
  {
   "cell_type": "code",
   "execution_count": null,
   "metadata": {
    "collapsed": false
   },
   "outputs": [],
   "source": [
    "f_sin = lambda q: sin(q)\n",
    "\n",
    "q_left = pi/4.\n",
    "q_right = 15*pi/4.\n",
    "\n",
    "xi, qxi, q_char, xi_char = osher_solution(f_sin, q_left, q_right, -1.5, 1.5)\n",
    "\n",
    "plot(xi_char, q_char,'r')\n",
    "plot(xi, qxi, 'b', linewidth=2)\n",
    "ylim(0.,14.)"
   ]
  },
  {
   "cell_type": "markdown",
   "metadata": {},
   "source": [
    "### Make an animation"
   ]
  },
  {
   "cell_type": "code",
   "execution_count": null,
   "metadata": {
    "collapsed": false
   },
   "outputs": [],
   "source": [
    "figs = []\n",
    "\n",
    "# adjust first and last elements in xi arrays\n",
    "# so things plot nicely for t \\approx 0:\n",
    "\n",
    "xi[0] *= 1e6; xi[-1] *= 1e6\n",
    "xi_char[0] *= 1e6; xi_char[-1] *= 1e6\n",
    "\n",
    "times = linspace(0,1,11)\n",
    "times[0] = 1e-3  # adjust first time to be >0\n",
    "\n",
    "for t in times:\n",
    "    fig = figure(figsize=(6,3))\n",
    "    plot(xi_char*t,q_char,'r')\n",
    "    plot(xi*t, qxi, 'b', linewidth=2)\n",
    "    xlim(-1.5, 1.5)\n",
    "    ylim(0.,14.)\n",
    "    figs.append(fig)\n",
    "    close(fig)\n",
    "\n",
    "anim = animation_tools.animate_figs(figs, style=animation_style, figsize=(6,3))\n",
    "display(anim)"
   ]
  },
  {
   "cell_type": "markdown",
   "metadata": {},
   "source": [
    "## Yet another example"
   ]
  },
  {
   "cell_type": "code",
   "execution_count": null,
   "metadata": {
    "collapsed": false
   },
   "outputs": [],
   "source": [
    "f = lambda q: q*sin(q)\n",
    "q_left = 2.\n",
    "q_right = 20.\n",
    "\n",
    "xi, qxi, q_char, xi_char = osher_solution(f, q_left, q_right)\n",
    "\n",
    "plot(xi_char,q_char,'r')\n",
    "plot(xi, qxi, 'b', linewidth=2)\n",
    "ylim(0,25)"
   ]
  },
  {
   "cell_type": "code",
   "execution_count": null,
   "metadata": {
    "collapsed": false
   },
   "outputs": [],
   "source": []
  }
 ],
 "metadata": {
  "kernelspec": {
   "display_name": "Python 2",
   "language": "python",
   "name": "python2"
  },
  "language_info": {
   "codemirror_mode": {
    "name": "ipython",
    "version": 2
   },
   "file_extension": ".py",
   "mimetype": "text/x-python",
   "name": "python",
   "nbconvert_exporter": "python",
   "pygments_lexer": "ipython2",
   "version": "2.7.12"
  }
 },
 "nbformat": 4,
 "nbformat_minor": 1
}
