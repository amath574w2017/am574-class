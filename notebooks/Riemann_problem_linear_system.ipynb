{
 "cells": [
  {
   "cell_type": "markdown",
   "metadata": {},
   "source": [
    "# Riemann problems for linear systems\n",
    "\n",
    "Illustrates drawing plots in the x-t plane.\n",
    "Sample code for AMath 574, Winter 2017."
   ]
  },
  {
   "cell_type": "code",
   "execution_count": 1,
   "metadata": {
    "collapsed": false
   },
   "outputs": [
    {
     "name": "stdout",
     "output_type": "stream",
     "text": [
      "Populating the interactive namespace from numpy and matplotlib\n"
     ]
    }
   ],
   "source": [
    "%pylab inline"
   ]
  },
  {
   "cell_type": "markdown",
   "metadata": {},
   "source": [
    "The next line forces use of print() as a function in Python 2, so that this notebook should work with either Python 2 or Python 3:"
   ]
  },
  {
   "cell_type": "code",
   "execution_count": 7,
   "metadata": {
    "collapsed": true
   },
   "outputs": [],
   "source": [
    "from __future__ import print_function"
   ]
  },
  {
   "cell_type": "markdown",
   "metadata": {},
   "source": [
    "The eig function should be loaded as part of pylab.  If you change the cell below to `eig?` and re-execute, then the doc string for `eig` will be displaced showing how it is used."
   ]
  },
  {
   "cell_type": "code",
   "execution_count": 51,
   "metadata": {
    "collapsed": false
   },
   "outputs": [
    {
     "data": {
      "text/plain": [
       "<function numpy.linalg.linalg.eig>"
      ]
     },
     "execution_count": 51,
     "metadata": {},
     "output_type": "execute_result"
    }
   ],
   "source": [
    "eig"
   ]
  },
  {
   "cell_type": "markdown",
   "metadata": {},
   "source": [
    "Set up a test matrix:"
   ]
  },
  {
   "cell_type": "code",
   "execution_count": 52,
   "metadata": {
    "collapsed": false
   },
   "outputs": [
    {
     "name": "stdout",
     "output_type": "stream",
     "text": [
      "A = \n",
      "[[ 2.  2.]\n",
      " [ 0. -3.]]\n"
     ]
    }
   ],
   "source": [
    "A = array([[2.,2],[0,-3]])\n",
    "print(\"A = \")\n",
    "print(A)"
   ]
  },
  {
   "cell_type": "markdown",
   "metadata": {},
   "source": [
    "Compute the eigenvalues and eigenvectors:"
   ]
  },
  {
   "cell_type": "code",
   "execution_count": 47,
   "metadata": {
    "collapsed": false
   },
   "outputs": [
    {
     "name": "stdout",
     "output_type": "stream",
     "text": [
      "Eigenvalues: \n",
      "[ 2. -3.]\n",
      "Eigenvector matrix:\n",
      "[[ 1.         -0.37139068]\n",
      " [ 0.          0.92847669]]\n"
     ]
    }
   ],
   "source": [
    "s,R = eig(A)\n",
    "print(\"Eigenvalues: \")\n",
    "print(s)\n",
    "print(\"Eigenvector matrix:\")\n",
    "print(R)"
   ]
  },
  {
   "cell_type": "markdown",
   "metadata": {},
   "source": [
    "Note that the eigenvalues are not necessarily in increasing order, so let's sort them:"
   ]
  },
  {
   "cell_type": "code",
   "execution_count": 48,
   "metadata": {
    "collapsed": false
   },
   "outputs": [
    {
     "name": "stdout",
     "output_type": "stream",
     "text": [
      "[1 0]\n"
     ]
    }
   ],
   "source": [
    "j = argsort(s)  # returns the indices in the order needed (0-based Python)\n",
    "print(j)"
   ]
  },
  {
   "cell_type": "code",
   "execution_count": 49,
   "metadata": {
    "collapsed": false
   },
   "outputs": [
    {
     "name": "stdout",
     "output_type": "stream",
     "text": [
      "[-3.  2.]\n"
     ]
    }
   ],
   "source": [
    "s = s[j]  # reorder s\n",
    "print(s)"
   ]
  },
  {
   "cell_type": "code",
   "execution_count": 50,
   "metadata": {
    "collapsed": false
   },
   "outputs": [
    {
     "name": "stdout",
     "output_type": "stream",
     "text": [
      "[[-0.37139068  1.        ]\n",
      " [ 0.92847669  0.        ]]\n"
     ]
    }
   ],
   "source": [
    "R = R[:,j]  # reorder columns of R:\n",
    "print(R)"
   ]
  },
  {
   "cell_type": "markdown",
   "metadata": {},
   "source": [
    "## Set up and solve a Riemann problem:"
   ]
  },
  {
   "cell_type": "code",
   "execution_count": 36,
   "metadata": {
    "collapsed": true
   },
   "outputs": [],
   "source": [
    "q_left = array([1,1])\n",
    "q_right = array([0,3])\n",
    "delta_q = q_right - q_left"
   ]
  },
  {
   "cell_type": "code",
   "execution_count": 37,
   "metadata": {
    "collapsed": false
   },
   "outputs": [
    {
     "name": "stdout",
     "output_type": "stream",
     "text": [
      "[-0.2         2.15406592]\n"
     ]
    }
   ],
   "source": [
    "alpha = solve(R, delta_q)\n",
    "print(alpha)"
   ]
  },
  {
   "cell_type": "code",
   "execution_count": 38,
   "metadata": {
    "collapsed": false
   },
   "outputs": [
    {
     "name": "stdout",
     "output_type": "stream",
     "text": [
      "Middle state is q_m = \n",
      " [ 0.8  1. ]\n"
     ]
    }
   ],
   "source": [
    "q_m = q_left + alpha[0]*R[:,0]\n",
    "print(\"Middle state is q_m = \\n %s\" % q_m)"
   ]
  },
  {
   "cell_type": "markdown",
   "metadata": {},
   "source": [
    "## Define a function to plot in the x-t plane:"
   ]
  },
  {
   "cell_type": "code",
   "execution_count": 39,
   "metadata": {
    "collapsed": false
   },
   "outputs": [],
   "source": [
    "def plot_xt_plane(s):\n",
    "    tfinal = 1.\n",
    "    xs = tfinal*s  # characteristics at final time\n",
    "    xs_max = max(abs(xs))\n",
    "    plot([-xs_max, xs_max],[0,0],'k')  # x-axis\n",
    "    for i in range(len(s)):\n",
    "        plot([0,xs[i]], [0,tfinal], 'b')\n",
    "    xlabel('x')\n",
    "    ylabel('time')\n",
    "    title('Solution in x-t plane')"
   ]
  },
  {
   "cell_type": "code",
   "execution_count": 40,
   "metadata": {
    "collapsed": false
   },
   "outputs": [
    {
     "data": {
      "image/png": "[encoded data removed]",
      "text/plain": [
       "<matplotlib.figure.Figure at 0x10b029a10>"
      ]
     },
     "metadata": {},
     "output_type": "display_data"
    }
   ],
   "source": [
    "plot_xt_plane(s)"
   ]
  },
  {
   "cell_type": "markdown",
   "metadata": {},
   "source": [
    "Note that everything above should also work for hyperbolic linear systems of $m$ equations, except that there will be more than one middle state. "
   ]
  },
  {
   "cell_type": "code",
   "execution_count": null,
   "metadata": {
    "collapsed": true
   },
   "outputs": [],
   "source": []
  }
 ],
 "metadata": {
  "kernelspec": {
   "display_name": "Python 2",
   "language": "python",
   "name": "python2"
  },
  "language_info": {
   "codemirror_mode": {
    "name": "ipython",
    "version": 2
   },
   "file_extension": ".py",
   "mimetype": "text/x-python",
   "name": "python",
   "nbconvert_exporter": "python",
   "pygments_lexer": "ipython2",
   "version": "2.7.12"
  }
 },
 "nbformat": 4,
 "nbformat_minor": 1
}
