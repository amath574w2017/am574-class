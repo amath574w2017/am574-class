{
 "cells": [
  {
   "cell_type": "markdown",
   "metadata": {},
   "source": [
    "# Advection algorithms -- animation options\n",
    "\n",
    "Illustrate solution of the advection equation $q_t + uq_x = 0$ where $u$ is constant.\n",
    "Shows the upwind method on a square pulse.  \n",
    "\n",
    "This code is adapted from [Advection_Examples2.ipynb](Advection_Examples2.ipynb) and used to show how the `clawpack.visclaw.animation_tools` can be used to animate figures.  See [animation_tools_demo.ipynb](https://nbviewer.jupyter.org/url/www.clawpack.org/_static/notebooks/animation_tools_demo.ipynb) for some more examples. (But many of the animations don't show up when viewing this static version, so you should run the notebook  instead, which is found in the Clawpack applications repository, in `$CLAW/apps/notebooks/visclaw`.)\n",
    "\n",
    "Figures are plotted during the time stepping and accumulated.  They can then be viewed as an animation using [ipywidgets](https://github.com/ipython/ipywidgets)."
   ]
  },
  {
   "cell_type": "code",
   "execution_count": null,
   "metadata": {
    "collapsed": false
   },
   "outputs": [],
   "source": [
    "%pylab inline"
   ]
  },
  {
   "cell_type": "code",
   "execution_count": null,
   "metadata": {
    "collapsed": false
   },
   "outputs": [],
   "source": [
    "from __future__ import print_function"
   ]
  },
  {
   "cell_type": "markdown",
   "metadata": {},
   "source": [
    "Import the `animation_tools` module.  This requires version 5.4.0 of Clawpack:"
   ]
  },
  {
   "cell_type": "code",
   "execution_count": null,
   "metadata": {
    "collapsed": false
   },
   "outputs": [],
   "source": [
    "from clawpack.visclaw import animation_tools"
   ]
  },
  {
   "cell_type": "markdown",
   "metadata": {},
   "source": [
    "Some other Jupyter tools:"
   ]
  },
  {
   "cell_type": "code",
   "execution_count": null,
   "metadata": {
    "collapsed": false
   },
   "outputs": [],
   "source": [
    "from IPython.display import display, FileLink"
   ]
  },
  {
   "cell_type": "markdown",
   "metadata": {},
   "source": [
    "## Desired true solution\n",
    "\n",
    "Define the true solution as a function of $(x,t)$.  It will depend on the advection velocity `u`.  \n",
    "Note how the periodic boundary conditions are imposed.\n",
    "\n",
    "Evaluating this function at $t=0$ will give the initial conditions below."
   ]
  },
  {
   "cell_type": "code",
   "execution_count": null,
   "metadata": {
    "collapsed": false
   },
   "outputs": [],
   "source": [
    "def qtrue(x,t,u):\n",
    "    x0 = x - u*t   # trace back characteristic to time 0\n",
    "    x0 = mod(x0, 1.)  # use periodic boundary conditions to map to [0,1]\n",
    "    q = where(abs(x0-0.2) < 0.1,  3., 2.)   # piecewise constant with values 2 and 3\n",
    "    return q"
   ]
  },
  {
   "cell_type": "markdown",
   "metadata": {},
   "source": [
    "### Define function to test one case\n",
    "\n",
    "This function also make a plot every `nplot` time steps and accumulate these in `figs`, which is returned from the function call."
   ]
  },
  {
   "cell_type": "code",
   "execution_count": null,
   "metadata": {
    "collapsed": false
   },
   "outputs": [],
   "source": [
    "def upwind(x,tfinal,nsteps,u,qtrue,nplot):\n",
    "    \n",
    "    # set initial data:\n",
    "    q0 = qtrue(x,0.,u)\n",
    "\n",
    "    # plot initial data:\n",
    "    fig = figure()\n",
    "    xfine = linspace(0,1,5000)   # fine grid for plotting true solution\n",
    "    plot(xfine, qtrue(xfine,0.,u),'r-')\n",
    "    title('Initial data')\n",
    "    plot(x,q0,'bo')\n",
    "    ylim(1,4)\n",
    "\n",
    "    # Start accumulating figures\n",
    "    # Will add more figures during time stepping\n",
    "    figs = [fig]  \n",
    "    close(fig)  # so it won't appear yet\n",
    "\n",
    "\n",
    "    # extend to include 2 ghost cells on each side:\n",
    "    qn_ext = hstack([0., 0., q0, 0., 0.])\n",
    "    i1 = 2  # index of first interior cell\n",
    "    imx = mx+1  # index of last interior cell\n",
    "\n",
    "    for n in range(nsteps):\n",
    "\n",
    "        # fill ghost cells for periodic BCs:\n",
    "        qn_ext[i1-2] = qn_ext[imx-1]\n",
    "        qn_ext[i1-1] = qn_ext[imx]\n",
    "        qn_ext[imx+1] = qn_ext[i1]\n",
    "        qn_ext[imx+2] = qn_ext[i1+1]\n",
    "\n",
    "        qnp_ext = qn_ext.copy()  # make a copy, not a new pointer to old array\n",
    "\n",
    "        for i in range(i1,imx+1):\n",
    "            if u > 0:\n",
    "                qnp_ext[i] = qn_ext[i] - udtdx * (qn_ext[i]-qn_ext[i-1])\n",
    "            else:\n",
    "                qnp_ext[i] = qn_ext[i] - udtdx * (qn_ext[i+1]-qn_ext[i])\n",
    "\n",
    "        qn_ext = qnp_ext\n",
    "\n",
    "        if mod(n,nplot) == 0:\n",
    "            fig = figure()\n",
    "            qn = qn_ext[i1:imx+1]\n",
    "            plot(x,qn,'bo-')\n",
    "            ylim(1,4)\n",
    "            tn = n*dt\n",
    "            plot(xfine, qtrue(xfine,tn,u),'r-')\n",
    "            title('Time t = %g' % tfinal)\n",
    "            figs.append(fig)\n",
    "            close(fig)\n",
    "\n",
    "    print(\"Took %i time steps and produced %i figures\" % (nsteps,len(figs)))\n",
    "    return figs"
   ]
  },
  {
   "cell_type": "code",
   "execution_count": null,
   "metadata": {
    "collapsed": false
   },
   "outputs": [],
   "source": [
    "xlower = 0.\n",
    "xupper = 1.\n",
    "mx = 50\n",
    "dx = float(xupper-xlower)/mx\n",
    "\n",
    "# finite volume cell centers:\n",
    "x = linspace(xlower+0.5*dx, xupper-0.5*dx, mx)\n",
    "u = 1.\n",
    "\n",
    "tfinal = 2.0\n",
    "nsteps = 150\n",
    "dt = float(tfinal)/nsteps\n",
    "udtdx = u*dt/dx\n",
    "cfl = abs(udtdx)\n",
    "print(\"dx = %6.4f, dt = %6.4f, Courant number is cfl = %5.2f\" % (dx,dt,cfl))\n",
    "\n",
    "# Run the upwind method, which returns the set of figures, \n",
    "# plotting every nplot steps:\n",
    "nplot = 2\n",
    "figs = upwind(x,tfinal,nsteps,u,qtrue,nplot)"
   ]
  },
  {
   "cell_type": "markdown",
   "metadata": {},
   "source": [
    "### View the final figure returned:"
   ]
  },
  {
   "cell_type": "code",
   "execution_count": null,
   "metadata": {
    "collapsed": false
   },
   "outputs": [],
   "source": [
    "display(figs[-1])  # index -1 gives last element of array"
   ]
  },
  {
   "cell_type": "markdown",
   "metadata": {},
   "source": [
    "### Make an animation using a widget:"
   ]
  },
  {
   "cell_type": "code",
   "execution_count": null,
   "metadata": {
    "collapsed": false
   },
   "outputs": [],
   "source": [
    "animation_tools.interact_animate_figs(figs)"
   ]
  },
  {
   "cell_type": "markdown",
   "metadata": {},
   "source": [
    "You can convert the figures into a list of images:"
   ]
  },
  {
   "cell_type": "code",
   "execution_count": null,
   "metadata": {
    "collapsed": false
   },
   "outputs": [],
   "source": [
    "images = animation_tools.make_images(figs)"
   ]
  },
  {
   "cell_type": "markdown",
   "metadata": {},
   "source": [
    "View the last image:"
   ]
  },
  {
   "cell_type": "code",
   "execution_count": null,
   "metadata": {
    "collapsed": false
   },
   "outputs": [],
   "source": [
    "imshow(images[-1])\n",
    "axis('off');  # or it adds a second axis"
   ]
  },
  {
   "cell_type": "markdown",
   "metadata": {},
   "source": [
    "These can now be animated using [JSAnimation](https://github.com/jakevdp/JSAnimation):"
   ]
  },
  {
   "cell_type": "code",
   "execution_count": null,
   "metadata": {
    "collapsed": false
   },
   "outputs": [],
   "source": [
    "anim = animation_tools.JSAnimate_images(images, figsize=(5,4));\n",
    "display(anim)  # to display it in the notebook"
   ]
  },
  {
   "cell_type": "markdown",
   "metadata": {},
   "source": [
    "You can also make a stand-alone html file with this animation:"
   ]
  },
  {
   "cell_type": "code",
   "execution_count": null,
   "metadata": {
    "collapsed": false
   },
   "outputs": [],
   "source": [
    "file_name = 'Advection_Upwind.html'\n",
    "animation_tools.make_html(anim, file_name=file_name, title=\"Advection with the Upwind Method\", \n",
    "                          raw_html=\"Illustration of html file created by <tt>make_html</tt>\")\n",
    "FileLink(file_name)"
   ]
  },
  {
   "cell_type": "code",
   "execution_count": null,
   "metadata": {
    "collapsed": false
   },
   "outputs": [],
   "source": []
  }
 ],
 "metadata": {
  "kernelspec": {
   "display_name": "Python 2",
   "language": "python",
   "name": "python2"
  },
  "language_info": {
   "codemirror_mode": {
    "name": "ipython",
    "version": 2
   },
   "file_extension": ".py",
   "mimetype": "text/x-python",
   "name": "python",
   "nbconvert_exporter": "python",
   "pygments_lexer": "ipython2",
   "version": "2.7.12"
  }
 },
 "nbformat": 4,
 "nbformat_minor": 1
}
