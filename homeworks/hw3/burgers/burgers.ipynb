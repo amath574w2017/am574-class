{
 "cells": [
  {
   "cell_type": "markdown",
   "metadata": {},
   "source": [
    "# Burgers' equation  -- entropy fix tests\n",
    "\n",
    "This notebook demonstrates running the Clawpack Fortran code and plotting results from a Jupyter notebook, and illustration of the effect of the entropy fix on the results."
   ]
  },
  {
   "cell_type": "markdown",
   "metadata": {},
   "source": [
    "\n",
    "The 1-dimensional Burgers' equation $q_t + f(q)_x = 0$ with $f(q) = \\frac 1 2 q^2$ is solved in the interval $-2 \\leq x \\leq 2$ with periodic boundary conditions.\n",
    "\n",
    "The entropy fix switch `efix` is specified in setrun.py but can be changed below."
   ]
  },
  {
   "cell_type": "markdown",
   "metadata": {},
   "source": [
    "Have plots appear inline in notebook:"
   ]
  },
  {
   "cell_type": "code",
   "execution_count": null,
   "metadata": {
    "collapsed": false
   },
   "outputs": [],
   "source": [
    "%pylab inline"
   ]
  },
  {
   "cell_type": "code",
   "execution_count": null,
   "metadata": {
    "collapsed": false
   },
   "outputs": [],
   "source": [
    "from __future__ import print_function"
   ]
  },
  {
   "cell_type": "markdown",
   "metadata": {},
   "source": [
    "Check that the CLAW environment variable is set.  (It must be set in the Unix shell before starting the notebook server)."
   ]
  },
  {
   "cell_type": "code",
   "execution_count": null,
   "metadata": {
    "collapsed": false
   },
   "outputs": [],
   "source": [
    "import os\n",
    "try:\n",
    "    CLAW = os.environ['CLAW'] \n",
    "    print(\"Using Clawpack from \", CLAW)\n",
    "except:\n",
    "    print(\"*** Environment variable CLAW must be set to run code\")"
   ]
  },
  {
   "cell_type": "markdown",
   "metadata": {},
   "source": [
    "### Module with functions used to execute system commands and capture output:"
   ]
  },
  {
   "cell_type": "code",
   "execution_count": null,
   "metadata": {
    "collapsed": false
   },
   "outputs": [],
   "source": [
    "from clawpack.clawutil import nbtools"
   ]
  },
  {
   "cell_type": "markdown",
   "metadata": {},
   "source": [
    "### Compile the code:"
   ]
  },
  {
   "cell_type": "code",
   "execution_count": null,
   "metadata": {
    "collapsed": false
   },
   "outputs": [],
   "source": [
    "nbtools.make_exe(new=True)  # new=True ==> force recompilation of all code"
   ]
  },
  {
   "cell_type": "markdown",
   "metadata": {},
   "source": [
    "### Run the code and plot results using the setrun.py and setplot.py files in this directory:\n",
    "\n",
    "First create data files needed for the Fortran code, using parameters specified in setrun.py:"
   ]
  },
  {
   "cell_type": "code",
   "execution_count": null,
   "metadata": {
    "collapsed": false
   },
   "outputs": [],
   "source": [
    "nbtools.make_data(verbose=False)"
   ]
  },
  {
   "cell_type": "markdown",
   "metadata": {},
   "source": [
    "Now run the code and produce plots.  Specifying a label insures the resulting plot directory will persist after later runs are done below."
   ]
  },
  {
   "cell_type": "code",
   "execution_count": null,
   "metadata": {
    "collapsed": false
   },
   "outputs": [],
   "source": [
    "outdir,plotdir = nbtools.make_output_and_plots(label='1')"
   ]
  },
  {
   "cell_type": "markdown",
   "metadata": {},
   "source": [
    "### Display the animation inline:\n",
    "\n",
    "Clicking on the _PlotIndex link above, you can view an animation of the results.  \n",
    "\n",
    "After creating all png files in the _plots directory, these can also be combined in an animation that is displayed inline:"
   ]
  },
  {
   "cell_type": "code",
   "execution_count": null,
   "metadata": {
    "collapsed": false
   },
   "outputs": [],
   "source": [
    "import clawpack.visclaw.JSAnimation.JSAnimation_frametools as J\n",
    "anim = J.make_anim(plotdir, figno=1, figsize=(6,4))\n",
    "anim"
   ]
  },
  {
   "cell_type": "markdown",
   "metadata": {},
   "source": [
    "## Adjust some parameters to explore the methods in Clawpack\n",
    "\n",
    "The animation above was computed using the default parameter values specified in `setrun.py`, which specified using the high-resolution method with the MC limiter.\n",
    "See the <a href=\"README.html\">README.html</a> file for a link to `setrun.py`.\n",
    "\n",
    "We can adjust the parameters by reading in the default values, changing one or more, and then  writing the data out for the Fortran code to use:"
   ]
  },
  {
   "cell_type": "code",
   "execution_count": null,
   "metadata": {
    "collapsed": false
   },
   "outputs": [],
   "source": [
    "import setrun\n",
    "rundata = setrun.setrun()\n",
    "\n",
    "print(\"The efix switch is currently set to \",rundata.probdata.efix)\n",
    "print(\"The order is currently set to \",rundata.clawdata.order)\n",
    "print(\"The limiter is currently set to \",rundata.clawdata.limiter)"
   ]
  },
  {
   "cell_type": "markdown",
   "metadata": {},
   "source": [
    "### First order upwind method\n",
    "\n",
    "Switch to the first order method and write out the data.  Then rerun the code. Note that the results are a bit more diffusive.  Also note that even with the entropy fix, there is a mild discontinuity right at the sonic point.  The amplitude of this would decrease with $\\Delta x$, however, and this method does converge to the correct weak solution as the grid is refined."
   ]
  },
  {
   "cell_type": "code",
   "execution_count": null,
   "metadata": {
    "collapsed": false
   },
   "outputs": [],
   "source": [
    "rundata = setrun.setrun()\n",
    "rundata.clawdata.order = 1\n",
    "rundata.write()\n",
    "\n",
    "outdir, plotdir = nbtools.make_output_and_plots(verbose=False)\n",
    "anim = J.make_anim(plotdir, figno=1, figsize=(6,4))\n",
    "anim"
   ]
  },
  {
   "cell_type": "markdown",
   "metadata": {},
   "source": [
    "## Upwind with no entropy fix\n",
    "\n",
    "With the entropy fix turned off, however, there is a substantial stationary jump at $x=0$ from $q=-1$ to $q=1$ in the computed solution that does not go away if you refine the grid:"
   ]
  },
  {
   "cell_type": "code",
   "execution_count": null,
   "metadata": {
    "collapsed": false
   },
   "outputs": [],
   "source": [
    "rundata = setrun.setrun()\n",
    "rundata.clawdata.order = 1\n",
    "rundata.probdata.efix = False\n",
    "rundata.clawdata.num_cells[0] = 400\n",
    "rundata.write()\n",
    "\n",
    "outdir, plotdir = nbtools.make_output_and_plots(verbose=False)\n",
    "anim = J.make_anim(plotdir, figno=1, figsize=(6,4))\n",
    "anim"
   ]
  },
  {
   "cell_type": "markdown",
   "metadata": {},
   "source": [
    "### High-resolution method with no entropy fix\n",
    "\n",
    "The high-resolution method that includes slopes and limiters smooths out the solution so that the correct weak solution is obtained in the limit.  But it doesn't look as good as the original results shown above for the case when the entropy fix is used.\n",
    "\n",
    "Here we also run out to a later time.  Note that the true solution as defined in `setplot.py` is only valid until the shock catches up to the rarefaction wave.  If you run to a longer time, no true solution is plotted at later times."
   ]
  },
  {
   "cell_type": "code",
   "execution_count": null,
   "metadata": {
    "collapsed": false
   },
   "outputs": [],
   "source": [
    "rundata = setrun.setrun()\n",
    "rundata.clawdata.tfinal = 2.\n",
    "rundata.probdata.efix = False\n",
    "rundata.write()\n",
    "\n",
    "outdir, plotdir = nbtools.make_output_and_plots(verbose=False)\n",
    "anim = J.make_anim(plotdir, figno=1, figsize=(6,4))\n",
    "anim"
   ]
  },
  {
   "cell_type": "code",
   "execution_count": null,
   "metadata": {
    "collapsed": false
   },
   "outputs": [],
   "source": []
  }
 ],
 "metadata": {
  "kernelspec": {
   "display_name": "Python 2",
   "language": "python",
   "name": "python2"
  },
  "language_info": {
   "codemirror_mode": {
    "name": "ipython",
    "version": 2
   },
   "file_extension": ".py",
   "mimetype": "text/x-python",
   "name": "python",
   "nbconvert_exporter": "python",
   "pygments_lexer": "ipython2",
   "version": "2.7.12"
  }
 },
 "nbformat": 4,
 "nbformat_minor": 0
}
